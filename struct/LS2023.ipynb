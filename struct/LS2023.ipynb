{
  "cells": [
    {
      "cell_type": "markdown",
      "metadata": {
        "id": "aLUClb6UC_Z5"
      },
      "source": [
        "# Life Science at SSIS 2022-2023\n",
        "\n",
        "There is a lot to come. Will we have 4 or 5 topics? What about the retake policy? Tough questions!"
      ]
    },
    {
      "cell_type": "code",
      "execution_count": 2,
      "metadata": {
        "colab": {
          "base_uri": "https://localhost:8080/"
        },
        "id": "cr71XRqMC7Kb",
        "outputId": "3277f80f-737d-465d-b802-cccfba30ae11"
      },
      "outputs": [
        {
          "name": "stdout",
          "output_type": "stream",
          "text": [
            "We will have 18.0 lessons per unit and on average 1.25 units per semester.\n"
          ]
        }
      ],
      "source": [
        "lessons   = 90\n",
        "exams     = 10\n",
        "semesters = 4\n",
        "units     = 5\n",
        "\n",
        "lessons_per_unit = lessons / units\n",
        "units_per_semester = units / semesters\n",
        "\n",
        "print(f\"We will have {lessons_per_unit} lessons per unit and on average {units_per_semester} units per semester.\")\n",
        "\n",
        "print(f\"So that's in total {units} units.\")"
      ]
    },
    {
      "cell_type": "code",
      "execution_count": null,
      "metadata": {},
      "outputs": [],
      "source": [
        "a = 5\n",
        "b = 10\n",
        "c = a + b\n",
        "print(c)"
      ]
    },
    {
      "cell_type": "code",
      "execution_count": null,
      "metadata": {},
      "outputs": [],
      "source": []
    },
    {
      "cell_type": "code",
      "execution_count": null,
      "metadata": {},
      "outputs": [],
      "source": []
    }
  ],
  "metadata": {
    "colab": {
      "name": "Life Science 2023.ipynb",
      "provenance": []
    },
    "kernelspec": {
      "display_name": "Python 3",
      "name": "python3"
    },
    "language_info": {
      "name": "python"
    }
  },
  "nbformat": 4,
  "nbformat_minor": 0
}
